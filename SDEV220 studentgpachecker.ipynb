{
 "cells": [
  {
   "cell_type": "code",
   "execution_count": 1,
   "id": "74df199a-5715-4977-93c8-0f92fc0d1cbd",
   "metadata": {},
   "outputs": [
    {
     "name": "stdin",
     "output_type": "stream",
     "text": [
      "Enter the student's last name (or 'ZZZ' to quit):  Norman \n",
      "Enter the student's first name:  Tom\n",
      "Enter the student's GPA:  3.6\n"
     ]
    },
    {
     "name": "stdout",
     "output_type": "stream",
     "text": [
      "Tom Norman  has made the Dean's List.\n"
     ]
    },
    {
     "name": "stdin",
     "output_type": "stream",
     "text": [
      "Enter the student's last name (or 'ZZZ' to quit):  Ratcliff\n",
      "Enter the student's first name:  Shaun\n",
      "Enter the student's GPA:  3.2\n"
     ]
    },
    {
     "name": "stdout",
     "output_type": "stream",
     "text": [
      "Shaun Ratcliff did not qualify for the Dean's List or Honor Roll.\n"
     ]
    },
    {
     "name": "stdin",
     "output_type": "stream",
     "text": [
      "Enter the student's last name (or 'ZZZ' to quit):  Wilson\n",
      "Enter the student's first name:  Will\n",
      "Enter the student's GPA:  3.0\n"
     ]
    },
    {
     "name": "stdout",
     "output_type": "stream",
     "text": [
      "Will Wilson did not qualify for the Dean's List or Honor Roll.\n"
     ]
    },
    {
     "name": "stdin",
     "output_type": "stream",
     "text": [
      "Enter the student's last name (or 'ZZZ' to quit):  Woods\n",
      "Enter the student's first name:  Steve\n",
      "Enter the student's GPA:  3.9\n"
     ]
    },
    {
     "name": "stdout",
     "output_type": "stream",
     "text": [
      "Steve Woods has made the Dean's List.\n"
     ]
    },
    {
     "name": "stdin",
     "output_type": "stream",
     "text": [
      "Enter the student's last name (or 'ZZZ' to quit):  Ryobi\n",
      "Enter the student's first name:  Frank\n",
      "Enter the student's GPA:  3.25\n"
     ]
    },
    {
     "name": "stdout",
     "output_type": "stream",
     "text": [
      "Frank Ryobi has made the Honor Roll.\n"
     ]
    },
    {
     "name": "stdin",
     "output_type": "stream",
     "text": [
      "Enter the student's last name (or 'ZZZ' to quit):  ZZZ\n"
     ]
    }
   ],
   "source": [
    "\"\"\"\n",
    "Author: Shaun Ratcliff\n",
    "File Name: student_gpa_checker.py\n",
    "Description: This program will accept a student names and GPAs and tests if the student has made the Dean's List or the Honor Roll.\n",
    "\n",
    "\n",
    "\"\"\"\n",
    "\n",
    "def check_student_gpa():\n",
    "    while True:\n",
    "        # Ask for student's last name\n",
    "        last_name = input(\"Enter the student's last name (or 'ZZZ' to quit): \")\n",
    "        \n",
    "        # Quit processing  the student records if the last name entered is 'ZZZ'\n",
    "        if last_name == 'ZZZ':\n",
    "            break\n",
    "        \n",
    "        # Ask for student's first name\n",
    "        first_name = input(\"Enter the student's first name: \")\n",
    "        \n",
    "        # Ask for the student's GPA as a float\n",
    "        gpa = float(input(\"Enter the student's GPA: \"))\n",
    "        \n",
    "        # Test if the student's GPA is 3.5 or greater print a message saying that the student has made the Dean's List\n",
    "        if gpa >= 3.5:\n",
    "            print(f\"{first_name} {last_name} has made the Dean's List.\")\n",
    "        # Test if the student's GPA is 3.25 or greater print a message saying that the student has made the Honor Roll\n",
    "        elif gpa >= 3.25:\n",
    "            print(f\"{first_name} {last_name} has made the Honor Roll.\")\n",
    "        else:\n",
    "            print(f\"{first_name} {last_name} did not qualify for the Dean's List or Honor Roll.\")\n",
    "check_student_gpa()"
   ]
  },
  {
   "cell_type": "code",
   "execution_count": null,
   "id": "f81adcee-88bc-4264-949d-bdfd2c620ee5",
   "metadata": {},
   "outputs": [],
   "source": []
  }
 ],
 "metadata": {
  "kernelspec": {
   "display_name": "Python [conda env:base] *",
   "language": "python",
   "name": "conda-base-py"
  },
  "language_info": {
   "codemirror_mode": {
    "name": "ipython",
    "version": 3
   },
   "file_extension": ".py",
   "mimetype": "text/x-python",
   "name": "python",
   "nbconvert_exporter": "python",
   "pygments_lexer": "ipython3",
   "version": "3.12.7"
  }
 },
 "nbformat": 4,
 "nbformat_minor": 5
}
